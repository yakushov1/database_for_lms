{
 "cells": [
  {
   "cell_type": "code",
   "execution_count": 1,
   "id": "d8fc2701",
   "metadata": {},
   "outputs": [],
   "source": [
    "import pandas as pd\n",
    "from sqlalchemy import create_engine\n",
    "from dotenv import load_dotenv\n",
    "import os\n",
    "import seaborn as sns\n",
    "import matplotlib.pyplot as plt"
   ]
  },
  {
   "cell_type": "markdown",
   "id": "d6226eea",
   "metadata": {},
   "source": [
    "## Подключение к БД"
   ]
  },
  {
   "cell_type": "markdown",
   "id": "d2b4a210",
   "metadata": {},
   "source": [
    "В файле `config/.env` необходимо задать все параметры для подключения к бд"
   ]
  },
  {
   "cell_type": "code",
   "execution_count": 2,
   "id": "d6238dd0",
   "metadata": {},
   "outputs": [],
   "source": [
    "# путь к конфигурационному файлу\n",
    "load_dotenv('../config/.env')\n",
    "    \n",
    "config = {\n",
    "        'host': os.getenv('DB_HOST'),\n",
    "        'user': os.getenv('DB_USER'),\n",
    "        'password': os.getenv('DB_PASSWORD'),\n",
    "        'database': os.getenv('DB_NAME'),\n",
    "        'port': os.getenv('DB_PORT', 3306)\n",
    "    }\n"
   ]
  },
  {
   "cell_type": "code",
   "execution_count": 3,
   "id": "6eb64e97",
   "metadata": {},
   "outputs": [],
   "source": [
    "connection_string = (f\"mysql+mysqlconnector://{config['user']}:{config['password']}@{config['host']}:{config['port']}/{config['database']}\")"
   ]
  },
  {
   "cell_type": "markdown",
   "id": "ae131a55",
   "metadata": {},
   "source": [
    "Поскольку запросы в ноутбуке выполняются с перерывами, подключение может быть разорвано. Поэтому каждый запрос обернем в функцию, которая возобновляет подключение:"
   ]
  },
  {
   "cell_type": "code",
   "execution_count": 4,
   "id": "0db586d8",
   "metadata": {},
   "outputs": [],
   "source": [
    "def get_query(query):\n",
    "    \"\"\"Создает новое подключение для каждого запроса\"\"\"\n",
    "    engine = create_engine(connection_string)\n",
    "    try:\n",
    "        with engine.connect() as conn: \n",
    "            result = pd.read_sql_query(query, conn)\n",
    "            return result\n",
    "    finally:\n",
    "        engine.dispose()  # Важно: закрываем engine"
   ]
  },
  {
   "cell_type": "markdown",
   "id": "9d73e414",
   "metadata": {},
   "source": [
    "## Аналитика"
   ]
  },
  {
   "cell_type": "markdown",
   "id": "ec8b50af",
   "metadata": {},
   "source": [
    "### 1. Количество пользователей, которые ни разу не заходили в систему"
   ]
  },
  {
   "cell_type": "code",
   "execution_count": 5,
   "id": "2670e1e2",
   "metadata": {},
   "outputs": [
    {
     "name": "stdout",
     "output_type": "stream",
     "text": [
      "Количество пользователей, которые никогда не заходили в систему: 22\n"
     ]
    }
   ],
   "source": [
    "query_1 = \"\"\"SELECT COUNT(*) as Amount\n",
    "             FROM users\n",
    "            WHERE last_visited_step_id IS NULL\"\"\"\n",
    "\n",
    "result_1  = get_query(query_1)\n",
    "\n",
    "\n",
    "print(f'Количество пользователей, которые никогда не заходили в систему: {result_1.iat[0,0]}')"
   ]
  },
  {
   "cell_type": "markdown",
   "id": "1d11b231",
   "metadata": {},
   "source": [
    "###  2. Количество пользователей, которые заходили в систему, но ничего не пытались решить"
   ]
  },
  {
   "cell_type": "code",
   "execution_count": 6,
   "id": "4b285533",
   "metadata": {},
   "outputs": [
    {
     "name": "stdout",
     "output_type": "stream",
     "text": [
      "Количество пользователей, которые заходили в систему, но ничего не пытались решить: 7\n"
     ]
    }
   ],
   "source": [
    "query_2 = \"\"\"SELECT COUNT(id) as Amount\n",
    "FROM users\n",
    "WHERE last_visited_step_id IS NOT NULL AND id NOT IN \n",
    "(SELECT DISTINCT user_id  FROM solutions)\"\"\"\n",
    "\n",
    "result_2  = get_query(query_2)\n",
    "print(f'Количество пользователей, которые заходили в систему, но ничего не пытались решить: {result_2.iat[0,0]}')"
   ]
  },
  {
   "cell_type": "markdown",
   "id": "e5446712",
   "metadata": {},
   "source": [
    "### 3. Рейтинг студентов\n",
    "Теперь не бездельники: таблица с количеством правильно решенных заданий и количество попыток решений (неважно, правильных в итоге или нет) для каждого пользователя"
   ]
  },
  {
   "cell_type": "code",
   "execution_count": 7,
   "id": "edf75d9e",
   "metadata": {},
   "outputs": [
    {
     "data": {
      "application/vnd.microsoft.datawrangler.viewer.v0+json": {
       "columns": [
        {
         "name": "index",
         "rawType": "int64",
         "type": "integer"
        },
        {
         "name": "login",
         "rawType": "object",
         "type": "string"
        },
        {
         "name": "attempts_total",
         "rawType": "float64",
         "type": "float"
        },
        {
         "name": "completed_steps",
         "rawType": "int64",
         "type": "integer"
        }
       ],
       "ref": "8825f925-3fba-4e19-9b52-895f3a09db39",
       "rows": [
        [
         "0",
         "admin",
         "155.0",
         "44"
        ],
        [
         "1",
         "test",
         "36.0",
         "6"
        ],
        [
         "2",
         "okrylovich",
         "1.0",
         "1"
        ]
       ],
       "shape": {
        "columns": 3,
        "rows": 3
       }
      },
      "text/html": [
       "<div>\n",
       "<style scoped>\n",
       "    .dataframe tbody tr th:only-of-type {\n",
       "        vertical-align: middle;\n",
       "    }\n",
       "\n",
       "    .dataframe tbody tr th {\n",
       "        vertical-align: top;\n",
       "    }\n",
       "\n",
       "    .dataframe thead th {\n",
       "        text-align: right;\n",
       "    }\n",
       "</style>\n",
       "<table border=\"1\" class=\"dataframe\">\n",
       "  <thead>\n",
       "    <tr style=\"text-align: right;\">\n",
       "      <th></th>\n",
       "      <th>login</th>\n",
       "      <th>attempts_total</th>\n",
       "      <th>completed_steps</th>\n",
       "    </tr>\n",
       "  </thead>\n",
       "  <tbody>\n",
       "    <tr>\n",
       "      <th>0</th>\n",
       "      <td>admin</td>\n",
       "      <td>155.0</td>\n",
       "      <td>44</td>\n",
       "    </tr>\n",
       "    <tr>\n",
       "      <th>1</th>\n",
       "      <td>test</td>\n",
       "      <td>36.0</td>\n",
       "      <td>6</td>\n",
       "    </tr>\n",
       "    <tr>\n",
       "      <th>2</th>\n",
       "      <td>okrylovich</td>\n",
       "      <td>1.0</td>\n",
       "      <td>1</td>\n",
       "    </tr>\n",
       "  </tbody>\n",
       "</table>\n",
       "</div>"
      ],
      "text/plain": [
       "        login  attempts_total  completed_steps\n",
       "0       admin           155.0               44\n",
       "1        test            36.0                6\n",
       "2  okrylovich             1.0                1"
      ]
     },
     "execution_count": 7,
     "metadata": {},
     "output_type": "execute_result"
    }
   ],
   "source": [
    "query_3 = \"\"\"SELECT first.login, first.attempts_total, second.completed_steps\n",
    "FROM\n",
    "(SELECT u.login, SUM(s.attempts_count) AS attempts_total\n",
    "FROM solutions s\n",
    "LEFT JOIN users u ON s.user_id = u.id\n",
    "GROUP BY s.user_id) AS first LEFT JOIN    -- суммарное количество попыток решений\n",
    "(SELECT u.login, COUNT(step_id) AS completed_steps\n",
    " FROM solutions s\n",
    " LEFT JOIN users u ON s.user_id = u.id\n",
    " WHERE is_correct = 1\n",
    " GROUP BY s.user_id) AS second            -- количество решенных заданий\n",
    " ON first.login = second.login\n",
    " ORDER BY completed_steps DESC\"\"\"\n",
    "result_3 = get_query(query_3)\n",
    "result_3"
   ]
  },
  {
   "cell_type": "markdown",
   "id": "bd00c708",
   "metadata": {},
   "source": [
    "### 4. Аналитика по степам\n",
    "Количество попыток, правильных решений (= количество решивших пользователей), доля правильных решений из всех попыток для каждого степа, среднее количество попыток решений для каждого степа. Отфильтрованы только с малой долей правильных решений (<30%). К степам также добавлены названия уроков"
   ]
  },
  {
   "cell_type": "code",
   "execution_count": 8,
   "id": "b6dfbc58",
   "metadata": {},
   "outputs": [
    {
     "data": {
      "application/vnd.microsoft.datawrangler.viewer.v0+json": {
       "columns": [
        {
         "name": "index",
         "rawType": "int64",
         "type": "integer"
        },
        {
         "name": "lesson",
         "rawType": "object",
         "type": "string"
        },
        {
         "name": "title",
         "rawType": "object",
         "type": "string"
        },
        {
         "name": "step",
         "rawType": "int64",
         "type": "integer"
        },
        {
         "name": "attempts_total",
         "rawType": "float64",
         "type": "float"
        },
        {
         "name": "correct_total",
         "rawType": "float64",
         "type": "float"
        },
        {
         "name": "proportion_of_correct",
         "rawType": "float64",
         "type": "float"
        },
        {
         "name": "average_attempts_amount",
         "rawType": "float64",
         "type": "float"
        }
       ],
       "ref": "a15bf355-29bf-4caf-b37d-03f5aec7b166",
       "rows": [
        [
         "0",
         "Pandas. Практическая работа",
         "Загрузка файла",
         "51",
         "30.0",
         "2.0",
         "6.7",
         "15.0"
        ],
        [
         "1",
         "Фильтрация и сортировка",
         "Загрузка файла",
         "65",
         "12.0",
         "1.0",
         "8.3",
         "12.0"
        ],
        [
         "2",
         "Pandas. Практическая работа",
         "Текстовый ответ",
         "50",
         "22.0",
         "2.0",
         "9.1",
         "11.0"
        ],
        [
         "3",
         "Группировка и агрегация",
         "Загрузка файла",
         "78",
         "7.0",
         "1.0",
         "14.3",
         "7.0"
        ],
        [
         "4",
         "Pandas. Практическая работа",
         "Текстовый ответ",
         "49",
         "6.0",
         "1.0",
         "16.7",
         "3.0"
        ],
        [
         "5",
         "Группировка и агрегация",
         "Текстовый ответ",
         "72",
         "6.0",
         "1.0",
         "16.7",
         "6.0"
        ],
        [
         "6",
         "\"Длинный\" и \"широкий\" формат",
         "Загрузка файла",
         "81",
         "6.0",
         "1.0",
         "16.7",
         "6.0"
        ],
        [
         "7",
         "Работа со столбцами",
         "Загрузка файла",
         "71",
         "5.0",
         "1.0",
         "20.0",
         "5.0"
        ],
        [
         "8",
         "Группировка и агрегация",
         "Загрузка файла",
         "77",
         "5.0",
         "1.0",
         "20.0",
         "5.0"
        ],
        [
         "9",
         "Группировка и агрегация",
         "Загрузка файла",
         "75",
         "4.0",
         "1.0",
         "25.0",
         "4.0"
        ],
        [
         "10",
         "\"Длинный\" и \"широкий\" формат",
         "Загрузка файла",
         "80",
         "4.0",
         "1.0",
         "25.0",
         "4.0"
        ]
       ],
       "shape": {
        "columns": 7,
        "rows": 11
       }
      },
      "text/html": [
       "<div>\n",
       "<style scoped>\n",
       "    .dataframe tbody tr th:only-of-type {\n",
       "        vertical-align: middle;\n",
       "    }\n",
       "\n",
       "    .dataframe tbody tr th {\n",
       "        vertical-align: top;\n",
       "    }\n",
       "\n",
       "    .dataframe thead th {\n",
       "        text-align: right;\n",
       "    }\n",
       "</style>\n",
       "<table border=\"1\" class=\"dataframe\">\n",
       "  <thead>\n",
       "    <tr style=\"text-align: right;\">\n",
       "      <th></th>\n",
       "      <th>lesson</th>\n",
       "      <th>title</th>\n",
       "      <th>step</th>\n",
       "      <th>attempts_total</th>\n",
       "      <th>correct_total</th>\n",
       "      <th>proportion_of_correct</th>\n",
       "      <th>average_attempts_amount</th>\n",
       "    </tr>\n",
       "  </thead>\n",
       "  <tbody>\n",
       "    <tr>\n",
       "      <th>0</th>\n",
       "      <td>Pandas. Практическая работа</td>\n",
       "      <td>Загрузка файла</td>\n",
       "      <td>51</td>\n",
       "      <td>30.0</td>\n",
       "      <td>2.0</td>\n",
       "      <td>6.7</td>\n",
       "      <td>15.0</td>\n",
       "    </tr>\n",
       "    <tr>\n",
       "      <th>1</th>\n",
       "      <td>Фильтрация и сортировка</td>\n",
       "      <td>Загрузка файла</td>\n",
       "      <td>65</td>\n",
       "      <td>12.0</td>\n",
       "      <td>1.0</td>\n",
       "      <td>8.3</td>\n",
       "      <td>12.0</td>\n",
       "    </tr>\n",
       "    <tr>\n",
       "      <th>2</th>\n",
       "      <td>Pandas. Практическая работа</td>\n",
       "      <td>Текстовый ответ</td>\n",
       "      <td>50</td>\n",
       "      <td>22.0</td>\n",
       "      <td>2.0</td>\n",
       "      <td>9.1</td>\n",
       "      <td>11.0</td>\n",
       "    </tr>\n",
       "    <tr>\n",
       "      <th>3</th>\n",
       "      <td>Группировка и агрегация</td>\n",
       "      <td>Загрузка файла</td>\n",
       "      <td>78</td>\n",
       "      <td>7.0</td>\n",
       "      <td>1.0</td>\n",
       "      <td>14.3</td>\n",
       "      <td>7.0</td>\n",
       "    </tr>\n",
       "    <tr>\n",
       "      <th>4</th>\n",
       "      <td>Pandas. Практическая работа</td>\n",
       "      <td>Текстовый ответ</td>\n",
       "      <td>49</td>\n",
       "      <td>6.0</td>\n",
       "      <td>1.0</td>\n",
       "      <td>16.7</td>\n",
       "      <td>3.0</td>\n",
       "    </tr>\n",
       "    <tr>\n",
       "      <th>5</th>\n",
       "      <td>Группировка и агрегация</td>\n",
       "      <td>Текстовый ответ</td>\n",
       "      <td>72</td>\n",
       "      <td>6.0</td>\n",
       "      <td>1.0</td>\n",
       "      <td>16.7</td>\n",
       "      <td>6.0</td>\n",
       "    </tr>\n",
       "    <tr>\n",
       "      <th>6</th>\n",
       "      <td>\"Длинный\" и \"широкий\" формат</td>\n",
       "      <td>Загрузка файла</td>\n",
       "      <td>81</td>\n",
       "      <td>6.0</td>\n",
       "      <td>1.0</td>\n",
       "      <td>16.7</td>\n",
       "      <td>6.0</td>\n",
       "    </tr>\n",
       "    <tr>\n",
       "      <th>7</th>\n",
       "      <td>Работа со столбцами</td>\n",
       "      <td>Загрузка файла</td>\n",
       "      <td>71</td>\n",
       "      <td>5.0</td>\n",
       "      <td>1.0</td>\n",
       "      <td>20.0</td>\n",
       "      <td>5.0</td>\n",
       "    </tr>\n",
       "    <tr>\n",
       "      <th>8</th>\n",
       "      <td>Группировка и агрегация</td>\n",
       "      <td>Загрузка файла</td>\n",
       "      <td>77</td>\n",
       "      <td>5.0</td>\n",
       "      <td>1.0</td>\n",
       "      <td>20.0</td>\n",
       "      <td>5.0</td>\n",
       "    </tr>\n",
       "    <tr>\n",
       "      <th>9</th>\n",
       "      <td>Группировка и агрегация</td>\n",
       "      <td>Загрузка файла</td>\n",
       "      <td>75</td>\n",
       "      <td>4.0</td>\n",
       "      <td>1.0</td>\n",
       "      <td>25.0</td>\n",
       "      <td>4.0</td>\n",
       "    </tr>\n",
       "    <tr>\n",
       "      <th>10</th>\n",
       "      <td>\"Длинный\" и \"широкий\" формат</td>\n",
       "      <td>Загрузка файла</td>\n",
       "      <td>80</td>\n",
       "      <td>4.0</td>\n",
       "      <td>1.0</td>\n",
       "      <td>25.0</td>\n",
       "      <td>4.0</td>\n",
       "    </tr>\n",
       "  </tbody>\n",
       "</table>\n",
       "</div>"
      ],
      "text/plain": [
       "                          lesson            title  step  attempts_total  \\\n",
       "0    Pandas. Практическая работа   Загрузка файла    51            30.0   \n",
       "1        Фильтрация и сортировка   Загрузка файла    65            12.0   \n",
       "2    Pandas. Практическая работа  Текстовый ответ    50            22.0   \n",
       "3        Группировка и агрегация   Загрузка файла    78             7.0   \n",
       "4    Pandas. Практическая работа  Текстовый ответ    49             6.0   \n",
       "5        Группировка и агрегация  Текстовый ответ    72             6.0   \n",
       "6   \"Длинный\" и \"широкий\" формат   Загрузка файла    81             6.0   \n",
       "7            Работа со столбцами   Загрузка файла    71             5.0   \n",
       "8        Группировка и агрегация   Загрузка файла    77             5.0   \n",
       "9        Группировка и агрегация   Загрузка файла    75             4.0   \n",
       "10  \"Длинный\" и \"широкий\" формат   Загрузка файла    80             4.0   \n",
       "\n",
       "    correct_total  proportion_of_correct  average_attempts_amount  \n",
       "0             2.0                    6.7                     15.0  \n",
       "1             1.0                    8.3                     12.0  \n",
       "2             2.0                    9.1                     11.0  \n",
       "3             1.0                   14.3                      7.0  \n",
       "4             1.0                   16.7                      3.0  \n",
       "5             1.0                   16.7                      6.0  \n",
       "6             1.0                   16.7                      6.0  \n",
       "7             1.0                   20.0                      5.0  \n",
       "8             1.0                   20.0                      5.0  \n",
       "9             1.0                   25.0                      4.0  \n",
       "10            1.0                   25.0                      4.0  "
      ]
     },
     "execution_count": 8,
     "metadata": {},
     "output_type": "execute_result"
    }
   ],
   "source": [
    "query_4 = \"\"\"SELECT lessons.title as lesson, steps_category.title, steps.id as step,\n",
    "SUM(solutions.attempts_count) as attempts_total, SUM(solutions.is_correct) as correct_total,\n",
    "ROUND(SUM(solutions.is_correct) / SUM(solutions.attempts_count) * 100, 1) as proportion_of_correct,\n",
    "ROUND(AVG(solutions.attempts_count), 1) AS average_attempts_amount\n",
    "\n",
    "FROM steps\n",
    "LEFT JOIN solutions ON steps.id = solutions.step_id\n",
    "LEFT JOIN lessons on steps.lesson_id = lessons.id\n",
    "LEFT JOIN steps_category on steps.category_id = steps_category.id\n",
    "WHERE steps.category_id != 1\n",
    "GROUP BY steps.id\n",
    "HAVING proportion_of_correct < 30\n",
    "ORDER BY proportion_of_correct\n",
    "\"\"\"\n",
    "\n",
    "result_4 = get_query(query_4)\n",
    "\n",
    "result_4"
   ]
  },
  {
   "cell_type": "markdown",
   "id": "67f45b63",
   "metadata": {},
   "source": [
    "#### 4.1. Зависимость успеха решений от количества попыток для каждого шага.\n",
    "Как видим, сложные задания (с низким % верных решений) имеют больше всего попыток решений."
   ]
  },
  {
   "cell_type": "code",
   "execution_count": null,
   "id": "ff52953d",
   "metadata": {},
   "outputs": [
    {
     "data": {
      "text/plain": [
       "<seaborn.axisgrid.FacetGrid at 0x791beb559090>"
      ]
     },
     "execution_count": 63,
     "metadata": {},
     "output_type": "execute_result"
    },
    {
     "data": {
      "image/png": "[encoded data removed]",
      "text/plain": [
       "<Figure size 500x500 with 1 Axes>"
      ]
     },
     "metadata": {},
     "output_type": "display_data"
    }
   ],
   "source": [
    "figure_4 = sns.relplot(result_4, x = 'average_attempts_amount', y = 'proportion_of_correct')\n",
    "figure_4.set_ylabels('Доля корректных решений среди всех попыток решений')\n",
    "figure_4.set_xlabels('Среднее количество попыток для каждого степа')\n"
   ]
  },
  {
   "cell_type": "markdown",
   "id": "24f2e908",
   "metadata": {},
   "source": [
    "### 5. В каком уроке меньше всего доля верных решений из всех попыток?"
   ]
  },
  {
   "cell_type": "code",
   "execution_count": 54,
   "id": "f20a8d89",
   "metadata": {},
   "outputs": [
    {
     "data": {
      "application/vnd.microsoft.datawrangler.viewer.v0+json": {
       "columns": [
        {
         "name": "index",
         "rawType": "int64",
         "type": "integer"
        },
        {
         "name": "section",
         "rawType": "object",
         "type": "string"
        },
        {
         "name": "lesson",
         "rawType": "object",
         "type": "string"
        },
        {
         "name": "attempts_total",
         "rawType": "float64",
         "type": "float"
        },
        {
         "name": "correct_total",
         "rawType": "float64",
         "type": "float"
        },
        {
         "name": "proportion_of_correct",
         "rawType": "float64",
         "type": "float"
        }
       ],
       "ref": "a6fa6cb8-00bc-4b02-a11c-1e7429236742",
       "rows": [
        [
         "0",
         "Основы Pandas",
         "Фильтрация и сортировка",
         "18.0",
         "3.0",
         "17.0"
        ],
        [
         "1",
         "Основы Pandas",
         "Pandas. Практическая работа",
         "79.0",
         "16.0",
         "20.0"
        ],
        [
         "2",
         "Основы Pandas",
         "Группировка и агрегация",
         "29.0",
         "7.0",
         "24.0"
        ],
        [
         "3",
         "Основы Pandas",
         "\"Длинный\" и \"широкий\" формат",
         "19.0",
         "5.0",
         "26.0"
        ],
        [
         "4",
         "Основы Pandas",
         "Работа со столбцами",
         "13.0",
         "4.0",
         "31.0"
        ],
        [
         "5",
         "Основы Pandas",
         "Конспект и другие полезные темы",
         "6.0",
         "2.0",
         "33.0"
        ],
        [
         "6",
         "Основы Pandas",
         "Объединение таблиц",
         "21.0",
         "10.0",
         "48.0"
        ],
        [
         "7",
         "Основы Pandas",
         "Визуализация",
         "2.0",
         "1.0",
         "50.0"
        ],
        [
         "8",
         "Основы Pandas",
         "Импорт и экспорт данных",
         "5.0",
         "3.0",
         "60.0"
        ]
       ],
       "shape": {
        "columns": 5,
        "rows": 9
       }
      },
      "text/html": [
       "<div>\n",
       "<style scoped>\n",
       "    .dataframe tbody tr th:only-of-type {\n",
       "        vertical-align: middle;\n",
       "    }\n",
       "\n",
       "    .dataframe tbody tr th {\n",
       "        vertical-align: top;\n",
       "    }\n",
       "\n",
       "    .dataframe thead th {\n",
       "        text-align: right;\n",
       "    }\n",
       "</style>\n",
       "<table border=\"1\" class=\"dataframe\">\n",
       "  <thead>\n",
       "    <tr style=\"text-align: right;\">\n",
       "      <th></th>\n",
       "      <th>section</th>\n",
       "      <th>lesson</th>\n",
       "      <th>attempts_total</th>\n",
       "      <th>correct_total</th>\n",
       "      <th>proportion_of_correct</th>\n",
       "    </tr>\n",
       "  </thead>\n",
       "  <tbody>\n",
       "    <tr>\n",
       "      <th>0</th>\n",
       "      <td>Основы Pandas</td>\n",
       "      <td>Фильтрация и сортировка</td>\n",
       "      <td>18.0</td>\n",
       "      <td>3.0</td>\n",
       "      <td>17.0</td>\n",
       "    </tr>\n",
       "    <tr>\n",
       "      <th>1</th>\n",
       "      <td>Основы Pandas</td>\n",
       "      <td>Pandas. Практическая работа</td>\n",
       "      <td>79.0</td>\n",
       "      <td>16.0</td>\n",
       "      <td>20.0</td>\n",
       "    </tr>\n",
       "    <tr>\n",
       "      <th>2</th>\n",
       "      <td>Основы Pandas</td>\n",
       "      <td>Группировка и агрегация</td>\n",
       "      <td>29.0</td>\n",
       "      <td>7.0</td>\n",
       "      <td>24.0</td>\n",
       "    </tr>\n",
       "    <tr>\n",
       "      <th>3</th>\n",
       "      <td>Основы Pandas</td>\n",
       "      <td>\"Длинный\" и \"широкий\" формат</td>\n",
       "      <td>19.0</td>\n",
       "      <td>5.0</td>\n",
       "      <td>26.0</td>\n",
       "    </tr>\n",
       "    <tr>\n",
       "      <th>4</th>\n",
       "      <td>Основы Pandas</td>\n",
       "      <td>Работа со столбцами</td>\n",
       "      <td>13.0</td>\n",
       "      <td>4.0</td>\n",
       "      <td>31.0</td>\n",
       "    </tr>\n",
       "    <tr>\n",
       "      <th>5</th>\n",
       "      <td>Основы Pandas</td>\n",
       "      <td>Конспект и другие полезные темы</td>\n",
       "      <td>6.0</td>\n",
       "      <td>2.0</td>\n",
       "      <td>33.0</td>\n",
       "    </tr>\n",
       "    <tr>\n",
       "      <th>6</th>\n",
       "      <td>Основы Pandas</td>\n",
       "      <td>Объединение таблиц</td>\n",
       "      <td>21.0</td>\n",
       "      <td>10.0</td>\n",
       "      <td>48.0</td>\n",
       "    </tr>\n",
       "    <tr>\n",
       "      <th>7</th>\n",
       "      <td>Основы Pandas</td>\n",
       "      <td>Визуализация</td>\n",
       "      <td>2.0</td>\n",
       "      <td>1.0</td>\n",
       "      <td>50.0</td>\n",
       "    </tr>\n",
       "    <tr>\n",
       "      <th>8</th>\n",
       "      <td>Основы Pandas</td>\n",
       "      <td>Импорт и экспорт данных</td>\n",
       "      <td>5.0</td>\n",
       "      <td>3.0</td>\n",
       "      <td>60.0</td>\n",
       "    </tr>\n",
       "  </tbody>\n",
       "</table>\n",
       "</div>"
      ],
      "text/plain": [
       "         section                           lesson  attempts_total  \\\n",
       "0  Основы Pandas          Фильтрация и сортировка            18.0   \n",
       "1  Основы Pandas      Pandas. Практическая работа            79.0   \n",
       "2  Основы Pandas          Группировка и агрегация            29.0   \n",
       "3  Основы Pandas     \"Длинный\" и \"широкий\" формат            19.0   \n",
       "4  Основы Pandas              Работа со столбцами            13.0   \n",
       "5  Основы Pandas  Конспект и другие полезные темы             6.0   \n",
       "6  Основы Pandas               Объединение таблиц            21.0   \n",
       "7  Основы Pandas                     Визуализация             2.0   \n",
       "8  Основы Pandas          Импорт и экспорт данных             5.0   \n",
       "\n",
       "   correct_total  proportion_of_correct  \n",
       "0            3.0                   17.0  \n",
       "1           16.0                   20.0  \n",
       "2            7.0                   24.0  \n",
       "3            5.0                   26.0  \n",
       "4            4.0                   31.0  \n",
       "5            2.0                   33.0  \n",
       "6           10.0                   48.0  \n",
       "7            1.0                   50.0  \n",
       "8            3.0                   60.0  "
      ]
     },
     "execution_count": 54,
     "metadata": {},
     "output_type": "execute_result"
    }
   ],
   "source": [
    "query_5 = \"\"\"SELECT sections.title as section, lessons.title as lesson, \n",
    "SUM(solutions.attempts_count) as attempts_total,\n",
    "SUM(solutions.is_correct) as correct_total, \n",
    "ROUND(SUM(solutions.is_correct) / SUM(solutions.attempts_count) * 100, 0) as proportion_of_correct\n",
    "FROM steps\n",
    "LEFT JOIN solutions ON steps.id = solutions.step_id\n",
    "LEFT JOIN lessons on steps.lesson_id = lessons.id\n",
    "LEFT JOIN sections ON lessons.section_id = sections.id\n",
    "WHERE steps.category_id != 1\n",
    "GROUP BY lesson\n",
    "ORDER BY proportion_of_correct -- пропорция верно решенных заданий\"\"\"\n",
    "\n",
    "\n",
    "result_5 = get_query(query_5)\n",
    "result_5"
   ]
  },
  {
   "cell_type": "markdown",
   "id": "d9916fd3",
   "metadata": {},
   "source": [
    "### 6. Шаги, которые никто никогда не проходил и не просматривал\n",
    "(за исключением админа, который в любом случае проверяет все степы)"
   ]
  },
  {
   "cell_type": "code",
   "execution_count": 9,
   "id": "4b6915c2",
   "metadata": {},
   "outputs": [
    {
     "data": {
      "application/vnd.microsoft.datawrangler.viewer.v0+json": {
       "columns": [
        {
         "name": "index",
         "rawType": "int64",
         "type": "integer"
        },
        {
         "name": "lesson",
         "rawType": "object",
         "type": "string"
        },
        {
         "name": "step_id",
         "rawType": "int64",
         "type": "integer"
        }
       ],
       "ref": "3e3e4857-9c23-402c-b589-d5af645effa9",
       "rows": [
        [
         "0",
         "Импорт и экспорт данных",
         "12"
        ],
        [
         "1",
         "Фильтрация и сортировка",
         "17"
        ],
        [
         "2",
         "Фильтрация и сортировка",
         "18"
        ],
        [
         "3",
         "Фильтрация и сортировка",
         "19"
        ],
        [
         "4",
         "Фильтрация и сортировка",
         "20"
        ],
        [
         "5",
         "Фильтрация и сортировка",
         "65"
        ],
        [
         "6",
         "Фильтрация и сортировка",
         "66"
        ],
        [
         "7",
         "Фильтрация и сортировка",
         "67"
        ],
        [
         "8",
         "Работа со столбцами",
         "22"
        ],
        [
         "9",
         "Работа со столбцами",
         "23"
        ],
        [
         "10",
         "Работа со столбцами",
         "24"
        ],
        [
         "11",
         "Работа со столбцами",
         "68"
        ],
        [
         "12",
         "Работа со столбцами",
         "69"
        ],
        [
         "13",
         "Работа со столбцами",
         "70"
        ],
        [
         "14",
         "Работа со столбцами",
         "71"
        ],
        [
         "15",
         "Группировка и агрегация",
         "72"
        ],
        [
         "16",
         "Группировка и агрегация",
         "73"
        ],
        [
         "17",
         "Группировка и агрегация",
         "74"
        ],
        [
         "18",
         "Группировка и агрегация",
         "75"
        ],
        [
         "19",
         "Группировка и агрегация",
         "76"
        ],
        [
         "20",
         "Группировка и агрегация",
         "77"
        ],
        [
         "21",
         "Группировка и агрегация",
         "78"
        ],
        [
         "22",
         "Объединение таблиц",
         "30"
        ],
        [
         "23",
         "Объединение таблиц",
         "31"
        ],
        [
         "24",
         "Объединение таблиц",
         "32"
        ],
        [
         "25",
         "Объединение таблиц",
         "33"
        ],
        [
         "26",
         "Объединение таблиц",
         "34"
        ],
        [
         "27",
         "Объединение таблиц",
         "35"
        ],
        [
         "28",
         "Объединение таблиц",
         "36"
        ],
        [
         "29",
         "Объединение таблиц",
         "37"
        ],
        [
         "30",
         "Объединение таблиц",
         "38"
        ],
        [
         "31",
         "Объединение таблиц",
         "39"
        ],
        [
         "32",
         "Объединение таблиц",
         "40"
        ],
        [
         "33",
         "\"Длинный\" и \"широкий\" формат",
         "42"
        ],
        [
         "34",
         "\"Длинный\" и \"широкий\" формат",
         "43"
        ],
        [
         "35",
         "\"Длинный\" и \"широкий\" формат",
         "79"
        ],
        [
         "36",
         "\"Длинный\" и \"широкий\" формат",
         "80"
        ],
        [
         "37",
         "\"Длинный\" и \"широкий\" формат",
         "81"
        ],
        [
         "38",
         "\"Длинный\" и \"широкий\" формат",
         "82"
        ],
        [
         "39",
         "\"Длинный\" и \"широкий\" формат",
         "83"
        ],
        [
         "40",
         "Визуализация",
         "84"
        ]
       ],
       "shape": {
        "columns": 2,
        "rows": 41
       }
      },
      "text/html": [
       "<div>\n",
       "<style scoped>\n",
       "    .dataframe tbody tr th:only-of-type {\n",
       "        vertical-align: middle;\n",
       "    }\n",
       "\n",
       "    .dataframe tbody tr th {\n",
       "        vertical-align: top;\n",
       "    }\n",
       "\n",
       "    .dataframe thead th {\n",
       "        text-align: right;\n",
       "    }\n",
       "</style>\n",
       "<table border=\"1\" class=\"dataframe\">\n",
       "  <thead>\n",
       "    <tr style=\"text-align: right;\">\n",
       "      <th></th>\n",
       "      <th>lesson</th>\n",
       "      <th>step_id</th>\n",
       "    </tr>\n",
       "  </thead>\n",
       "  <tbody>\n",
       "    <tr>\n",
       "      <th>0</th>\n",
       "      <td>Импорт и экспорт данных</td>\n",
       "      <td>12</td>\n",
       "    </tr>\n",
       "    <tr>\n",
       "      <th>1</th>\n",
       "      <td>Фильтрация и сортировка</td>\n",
       "      <td>17</td>\n",
       "    </tr>\n",
       "    <tr>\n",
       "      <th>2</th>\n",
       "      <td>Фильтрация и сортировка</td>\n",
       "      <td>18</td>\n",
       "    </tr>\n",
       "    <tr>\n",
       "      <th>3</th>\n",
       "      <td>Фильтрация и сортировка</td>\n",
       "      <td>19</td>\n",
       "    </tr>\n",
       "    <tr>\n",
       "      <th>4</th>\n",
       "      <td>Фильтрация и сортировка</td>\n",
       "      <td>20</td>\n",
       "    </tr>\n",
       "    <tr>\n",
       "      <th>5</th>\n",
       "      <td>Фильтрация и сортировка</td>\n",
       "      <td>65</td>\n",
       "    </tr>\n",
       "    <tr>\n",
       "      <th>6</th>\n",
       "      <td>Фильтрация и сортировка</td>\n",
       "      <td>66</td>\n",
       "    </tr>\n",
       "    <tr>\n",
       "      <th>7</th>\n",
       "      <td>Фильтрация и сортировка</td>\n",
       "      <td>67</td>\n",
       "    </tr>\n",
       "    <tr>\n",
       "      <th>8</th>\n",
       "      <td>Работа со столбцами</td>\n",
       "      <td>22</td>\n",
       "    </tr>\n",
       "    <tr>\n",
       "      <th>9</th>\n",
       "      <td>Работа со столбцами</td>\n",
       "      <td>23</td>\n",
       "    </tr>\n",
       "    <tr>\n",
       "      <th>10</th>\n",
       "      <td>Работа со столбцами</td>\n",
       "      <td>24</td>\n",
       "    </tr>\n",
       "    <tr>\n",
       "      <th>11</th>\n",
       "      <td>Работа со столбцами</td>\n",
       "      <td>68</td>\n",
       "    </tr>\n",
       "    <tr>\n",
       "      <th>12</th>\n",
       "      <td>Работа со столбцами</td>\n",
       "      <td>69</td>\n",
       "    </tr>\n",
       "    <tr>\n",
       "      <th>13</th>\n",
       "      <td>Работа со столбцами</td>\n",
       "      <td>70</td>\n",
       "    </tr>\n",
       "    <tr>\n",
       "      <th>14</th>\n",
       "      <td>Работа со столбцами</td>\n",
       "      <td>71</td>\n",
       "    </tr>\n",
       "    <tr>\n",
       "      <th>15</th>\n",
       "      <td>Группировка и агрегация</td>\n",
       "      <td>72</td>\n",
       "    </tr>\n",
       "    <tr>\n",
       "      <th>16</th>\n",
       "      <td>Группировка и агрегация</td>\n",
       "      <td>73</td>\n",
       "    </tr>\n",
       "    <tr>\n",
       "      <th>17</th>\n",
       "      <td>Группировка и агрегация</td>\n",
       "      <td>74</td>\n",
       "    </tr>\n",
       "    <tr>\n",
       "      <th>18</th>\n",
       "      <td>Группировка и агрегация</td>\n",
       "      <td>75</td>\n",
       "    </tr>\n",
       "    <tr>\n",
       "      <th>19</th>\n",
       "      <td>Группировка и агрегация</td>\n",
       "      <td>76</td>\n",
       "    </tr>\n",
       "    <tr>\n",
       "      <th>20</th>\n",
       "      <td>Группировка и агрегация</td>\n",
       "      <td>77</td>\n",
       "    </tr>\n",
       "    <tr>\n",
       "      <th>21</th>\n",
       "      <td>Группировка и агрегация</td>\n",
       "      <td>78</td>\n",
       "    </tr>\n",
       "    <tr>\n",
       "      <th>22</th>\n",
       "      <td>Объединение таблиц</td>\n",
       "      <td>30</td>\n",
       "    </tr>\n",
       "    <tr>\n",
       "      <th>23</th>\n",
       "      <td>Объединение таблиц</td>\n",
       "      <td>31</td>\n",
       "    </tr>\n",
       "    <tr>\n",
       "      <th>24</th>\n",
       "      <td>Объединение таблиц</td>\n",
       "      <td>32</td>\n",
       "    </tr>\n",
       "    <tr>\n",
       "      <th>25</th>\n",
       "      <td>Объединение таблиц</td>\n",
       "      <td>33</td>\n",
       "    </tr>\n",
       "    <tr>\n",
       "      <th>26</th>\n",
       "      <td>Объединение таблиц</td>\n",
       "      <td>34</td>\n",
       "    </tr>\n",
       "    <tr>\n",
       "      <th>27</th>\n",
       "      <td>Объединение таблиц</td>\n",
       "      <td>35</td>\n",
       "    </tr>\n",
       "    <tr>\n",
       "      <th>28</th>\n",
       "      <td>Объединение таблиц</td>\n",
       "      <td>36</td>\n",
       "    </tr>\n",
       "    <tr>\n",
       "      <th>29</th>\n",
       "      <td>Объединение таблиц</td>\n",
       "      <td>37</td>\n",
       "    </tr>\n",
       "    <tr>\n",
       "      <th>30</th>\n",
       "      <td>Объединение таблиц</td>\n",
       "      <td>38</td>\n",
       "    </tr>\n",
       "    <tr>\n",
       "      <th>31</th>\n",
       "      <td>Объединение таблиц</td>\n",
       "      <td>39</td>\n",
       "    </tr>\n",
       "    <tr>\n",
       "      <th>32</th>\n",
       "      <td>Объединение таблиц</td>\n",
       "      <td>40</td>\n",
       "    </tr>\n",
       "    <tr>\n",
       "      <th>33</th>\n",
       "      <td>\"Длинный\" и \"широкий\" формат</td>\n",
       "      <td>42</td>\n",
       "    </tr>\n",
       "    <tr>\n",
       "      <th>34</th>\n",
       "      <td>\"Длинный\" и \"широкий\" формат</td>\n",
       "      <td>43</td>\n",
       "    </tr>\n",
       "    <tr>\n",
       "      <th>35</th>\n",
       "      <td>\"Длинный\" и \"широкий\" формат</td>\n",
       "      <td>79</td>\n",
       "    </tr>\n",
       "    <tr>\n",
       "      <th>36</th>\n",
       "      <td>\"Длинный\" и \"широкий\" формат</td>\n",
       "      <td>80</td>\n",
       "    </tr>\n",
       "    <tr>\n",
       "      <th>37</th>\n",
       "      <td>\"Длинный\" и \"широкий\" формат</td>\n",
       "      <td>81</td>\n",
       "    </tr>\n",
       "    <tr>\n",
       "      <th>38</th>\n",
       "      <td>\"Длинный\" и \"широкий\" формат</td>\n",
       "      <td>82</td>\n",
       "    </tr>\n",
       "    <tr>\n",
       "      <th>39</th>\n",
       "      <td>\"Длинный\" и \"широкий\" формат</td>\n",
       "      <td>83</td>\n",
       "    </tr>\n",
       "    <tr>\n",
       "      <th>40</th>\n",
       "      <td>Визуализация</td>\n",
       "      <td>84</td>\n",
       "    </tr>\n",
       "  </tbody>\n",
       "</table>\n",
       "</div>"
      ],
      "text/plain": [
       "                          lesson  step_id\n",
       "0        Импорт и экспорт данных       12\n",
       "1        Фильтрация и сортировка       17\n",
       "2        Фильтрация и сортировка       18\n",
       "3        Фильтрация и сортировка       19\n",
       "4        Фильтрация и сортировка       20\n",
       "5        Фильтрация и сортировка       65\n",
       "6        Фильтрация и сортировка       66\n",
       "7        Фильтрация и сортировка       67\n",
       "8            Работа со столбцами       22\n",
       "9            Работа со столбцами       23\n",
       "10           Работа со столбцами       24\n",
       "11           Работа со столбцами       68\n",
       "12           Работа со столбцами       69\n",
       "13           Работа со столбцами       70\n",
       "14           Работа со столбцами       71\n",
       "15       Группировка и агрегация       72\n",
       "16       Группировка и агрегация       73\n",
       "17       Группировка и агрегация       74\n",
       "18       Группировка и агрегация       75\n",
       "19       Группировка и агрегация       76\n",
       "20       Группировка и агрегация       77\n",
       "21       Группировка и агрегация       78\n",
       "22            Объединение таблиц       30\n",
       "23            Объединение таблиц       31\n",
       "24            Объединение таблиц       32\n",
       "25            Объединение таблиц       33\n",
       "26            Объединение таблиц       34\n",
       "27            Объединение таблиц       35\n",
       "28            Объединение таблиц       36\n",
       "29            Объединение таблиц       37\n",
       "30            Объединение таблиц       38\n",
       "31            Объединение таблиц       39\n",
       "32            Объединение таблиц       40\n",
       "33  \"Длинный\" и \"широкий\" формат       42\n",
       "34  \"Длинный\" и \"широкий\" формат       43\n",
       "35  \"Длинный\" и \"широкий\" формат       79\n",
       "36  \"Длинный\" и \"широкий\" формат       80\n",
       "37  \"Длинный\" и \"широкий\" формат       81\n",
       "38  \"Длинный\" и \"широкий\" формат       82\n",
       "39  \"Длинный\" и \"широкий\" формат       83\n",
       "40                  Визуализация       84"
      ]
     },
     "execution_count": 9,
     "metadata": {},
     "output_type": "execute_result"
    }
   ],
   "source": [
    "query_6 = \"\"\"SELECT lessons.title as lesson, steps.id as step_id\n",
    "FROM steps\n",
    "LEFT JOIN lessons ON steps.lesson_id = lessons.id\n",
    "WHERE steps.id NOT IN (SELECT DISTINCT(step_views.step_id)\n",
    "\t\t\t\t FROM step_views\n",
    "\t\t\t\t LEFT JOIN users ON step_views.user_id = users.id \n",
    "\t\t\t\t WHERE users.login != 'admin')                      \n",
    "AND steps.id NOT IN (SELECT DISTINCT solutions.step_id\n",
    "\t\t\t   FROM solutions\n",
    "\t\t\t   LEFT JOIN users ON solutions.user_id = users.id\n",
    "\t\t\t   WHERE users.login != 'admin')\"\"\"\n",
    "\n",
    "result_6 = get_query(query_6)\n",
    "\n",
    "result_6"
   ]
  }
 ],
 "metadata": {
  "kernelspec": {
   "display_name": "venv (3.13.3)",
   "language": "python",
   "name": "python3"
  },
  "language_info": {
   "codemirror_mode": {
    "name": "ipython",
    "version": 3
   },
   "file_extension": ".py",
   "mimetype": "text/x-python",
   "name": "python",
   "nbconvert_exporter": "python",
   "pygments_lexer": "ipython3",
   "version": "3.13.3"
  }
 },
 "nbformat": 4,
 "nbformat_minor": 5
}
