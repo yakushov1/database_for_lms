{
 "cells": [
  {
   "cell_type": "code",
   "execution_count": null,
   "id": "d8fc2701",
   "metadata": {},
   "outputs": [],
   "source": [
    "import pandas as pd\n",
    "from sqlalchemy import create_engine\n",
    "from dotenv import load_dotenv\n",
    "import os"
   ]
  },
  {
   "cell_type": "markdown",
   "id": "d6226eea",
   "metadata": {},
   "source": [
    "## Подключение к БД"
   ]
  },
  {
   "cell_type": "markdown",
   "id": "d2b4a210",
   "metadata": {},
   "source": [
    "В файле `config/.env` необходимо задать все параметры для подключения к бд"
   ]
  },
  {
   "cell_type": "code",
   "execution_count": null,
   "id": "d6238dd0",
   "metadata": {},
   "outputs": [],
   "source": [
    "# путь к конфигурационному файлу\n",
    "load_dotenv('../config/.env')\n",
    "    \n",
    "config = {\n",
    "        'host': os.getenv('DB_HOST'),\n",
    "        'user': os.getenv('DB_USER'),\n",
    "        'password': os.getenv('DB_PASSWORD'),\n",
    "        'database': os.getenv('DB_NAME'),\n",
    "        'port': os.getenv('DB_PORT', 3306)\n",
    "    }\n"
   ]
  },
  {
   "cell_type": "code",
   "execution_count": null,
   "id": "6eb64e97",
   "metadata": {},
   "outputs": [],
   "source": [
    "connection_string = (f\"mysql+mysqlconnector://{config['user']}:{config['password']}@{config['host']}:{config['port']}/{config['database']}\")"
   ]
  },
  {
   "cell_type": "markdown",
   "id": "ae131a55",
   "metadata": {},
   "source": [
    "Поскольку запросы в ноутбуке выполняются с перерывами, подключение может быть разорвано. Поэтому каждый запрос обернем в функцию, которая возобновляет подключение:"
   ]
  },
  {
   "cell_type": "code",
   "execution_count": null,
   "id": "0db586d8",
   "metadata": {},
   "outputs": [],
   "source": [
    "def get_query(query):\n",
    "    \"\"\"Создает новое подключение для каждого запроса\"\"\"\n",
    "    engine = create_engine(connection_string)\n",
    "    try:\n",
    "        with engine.connect() as conn: \n",
    "            result = pd.read_sql_query(query, conn)\n",
    "            return result\n",
    "    finally:\n",
    "        engine.dispose()  # Важно: закрываем engine"
   ]
  },
  {
   "cell_type": "markdown",
   "id": "9d73e414",
   "metadata": {},
   "source": [
    "## Аналитика"
   ]
  },
  {
   "cell_type": "markdown",
   "id": "ec8b50af",
   "metadata": {},
   "source": [
    "### 1. Количество пользователей, которые ни разу не заходили в систему"
   ]
  },
  {
   "cell_type": "code",
   "execution_count": null,
   "id": "2670e1e2",
   "metadata": {},
   "outputs": [],
   "source": [
    "query_1 = \"\"\"SELECT COUNT(*) as Amount\n",
    "             FROM users\n",
    "            WHERE last_visited_step_id IS NULL\"\"\"\n",
    "\n",
    "result_1  = get_query(query_1)\n",
    "\n",
    "\n",
    "print(f'Количество пользователей, которые никогда не заходили в систему: {result_1.iat[0,0]}')"
   ]
  },
  {
   "cell_type": "markdown",
   "id": "1d11b231",
   "metadata": {},
   "source": [
    "###  2. Количество пользователей, которые заходили в систему, но ничего не пытались решить"
   ]
  },
  {
   "cell_type": "code",
   "execution_count": null,
   "id": "4b285533",
   "metadata": {},
   "outputs": [],
   "source": [
    "query_2 = \"\"\"SELECT COUNT(id) as Amount\n",
    "FROM users\n",
    "WHERE last_visited_step_id IS NOT NULL AND id NOT IN \n",
    "(SELECT DISTINCT user_id  FROM solutions)\"\"\"\n",
    "\n",
    "result_2  = get_query(query_2)\n",
    "print(f'Количество пользователей, которые заходили в систему, но ничего не пытались решить: {result_2.iat[0,0]}')"
   ]
  },
  {
   "cell_type": "markdown",
   "id": "e5446712",
   "metadata": {},
   "source": [
    "### 3. Рейтинг студентов\n",
    "Теперь не бездельники: таблица с количеством правильно решенных заданий и количество попыток решений (неважно, правильных в итоге или нет) для каждого пользователя"
   ]
  },
  {
   "cell_type": "code",
   "execution_count": null,
   "id": "edf75d9e",
   "metadata": {},
   "outputs": [],
   "source": [
    "query_3 = \"\"\"SELECT first.login, first.attempts_total, second.completed_steps\n",
    "FROM\n",
    "(SELECT u.login, SUM(s.attempts_count) AS attempts_total\n",
    "FROM solutions s\n",
    "LEFT JOIN users u ON s.user_id = u.id\n",
    "GROUP BY s.user_id) AS first LEFT JOIN    -- суммарное количество попыток решений\n",
    "(SELECT u.login, COUNT(step_id) AS completed_steps\n",
    " FROM solutions s\n",
    " LEFT JOIN users u ON s.user_id = u.id\n",
    " WHERE is_correct = 1\n",
    " GROUP BY s.user_id) AS second            -- количество решенных заданий\n",
    " ON first.login = second.login\n",
    " ORDER BY completed_steps DESC\"\"\"\n",
    "result_3 = get_query(query_3)\n",
    "result_3"
   ]
  },
  {
   "cell_type": "markdown",
   "id": "bd00c708",
   "metadata": {},
   "source": [
    "### 4. Аналитика по степам\n",
    "Количество попыток, правильных решений (= количество решивших пользователей) и процент правильных решений для каждого степа. Отфильтрованы только с малой долей правильных решений (<30%). К степам также добавлены названия уроков"
   ]
  },
  {
   "cell_type": "code",
   "execution_count": null,
   "id": "b6dfbc58",
   "metadata": {},
   "outputs": [],
   "source": [
    "query_4 = \"\"\"SELECT lessons.title as lesson, steps.id as step, SUM(solutions.attempts_count) as attempts_total, SUM(solutions.is_correct) as correct_total, ROUND(SUM(solutions.is_correct) / SUM(solutions.attempts_count) * 100, 1) as proportion_of_correct\n",
    "FROM steps\n",
    "LEFT JOIN solutions ON steps.id = solutions.step_id\n",
    "LEFT JOIN lessons on steps.lesson_id = lessons.id\n",
    "WHERE steps.category_id != 1\n",
    "GROUP BY steps.id\n",
    "HAVING proportion_of_correct < 30\n",
    "ORDER BY proportion_of_correct\"\"\"\n",
    "\n",
    "result_4 = get_query(query_4)\n",
    "\n",
    "result_4"
   ]
  },
  {
   "cell_type": "markdown",
   "id": "24f2e908",
   "metadata": {},
   "source": [
    "### 5. В каком уроке меньше всего доля верных решений из всех попыток?"
   ]
  },
  {
   "cell_type": "code",
   "execution_count": null,
   "id": "f20a8d89",
   "metadata": {},
   "outputs": [],
   "source": [
    "query_5 = \"\"\"SELECT sections.title as section, lessons.title as lesson, SUM(solutions.attempts_count) as attempts_total, SUM(solutions.is_correct) as correct_total, ROUND(SUM(solutions.is_correct) / SUM(solutions.attempts_count) * 100, 0) as proportion_of_correct\n",
    "FROM steps\n",
    "LEFT JOIN solutions ON steps.id = solutions.step_id\n",
    "LEFT JOIN lessons on steps.lesson_id = lessons.id\n",
    "LEFT JOIN sections ON lessons.section_id = sections.id\n",
    "WHERE steps.category_id != 1\n",
    "GROUP BY lesson\n",
    "ORDER BY proportion_of_correct -- пропорция верно решенных заданий\"\"\"\n",
    "\n",
    "\n",
    "result_5 = get_query(query_5)\n",
    "result_5"
   ]
  },
  {
   "cell_type": "markdown",
   "id": "d9916fd3",
   "metadata": {},
   "source": [
    "### 6. Шаги, которые никто никогда не проходил и не просматривал\n",
    "(за исключением админа, который в любом случае проверяет все степы)"
   ]
  },
  {
   "cell_type": "code",
   "execution_count": null,
   "id": "4b6915c2",
   "metadata": {},
   "outputs": [],
   "source": [
    "query_6 = \"\"\"SELECT lessons.title as lesson, steps.id as step_id\n",
    "FROM steps\n",
    "LEFT JOIN lessons ON steps.lesson_id = lessons.id\n",
    "WHERE steps.id NOT IN (SELECT DISTINCT(step_views.step_id)\n",
    "\t\t\t\t FROM step_views\n",
    "\t\t\t\t LEFT JOIN users ON step_views.user_id = users.id \n",
    "\t\t\t\t WHERE users.login != 'admin')                      \n",
    "AND steps.id NOT IN (SELECT DISTINCT solutions.step_id\n",
    "\t\t\t   FROM solutions\n",
    "\t\t\t   LEFT JOIN users ON solutions.user_id = users.id\n",
    "\t\t\t   WHERE users.login != 'admin')\"\"\"\n",
    "\n",
    "result_6 = get_query(query_6)\n",
    "\n",
    "result_6"
   ]
  }
 ],
 "metadata": {
  "kernelspec": {
   "display_name": "venv (3.13.3)",
   "language": "python",
   "name": "python3"
  },
  "language_info": {
   "codemirror_mode": {
    "name": "ipython",
    "version": 3
   },
   "file_extension": ".py",
   "mimetype": "text/x-python",
   "name": "python",
   "nbconvert_exporter": "python",
   "pygments_lexer": "ipython3",
   "version": "3.13.3"
  }
 },
 "nbformat": 4,
 "nbformat_minor": 5
}
